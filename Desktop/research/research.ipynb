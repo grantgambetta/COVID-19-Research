{
 "metadata": {
  "language_info": {
   "codemirror_mode": {
    "name": "ipython",
    "version": 3
   },
   "file_extension": ".py",
   "mimetype": "text/x-python",
   "name": "python",
   "nbconvert_exporter": "python",
   "pygments_lexer": "ipython3",
   "version": "3.8.3-final"
  },
  "orig_nbformat": 2,
  "kernelspec": {
   "name": "python_defaultSpec_1599333290975",
   "display_name": "Python 3.8.3 64-bit"
  }
 },
 "nbformat": 4,
 "nbformat_minor": 2,
 "cells": [
  {
   "cell_type": "code",
   "execution_count": 1,
   "metadata": {},
   "outputs": [],
   "source": [
    "import pandas as pd"
   ]
  },
  {
   "cell_type": "code",
   "execution_count": 2,
   "metadata": {},
   "outputs": [
    {
     "output_type": "execute_result",
     "data": {
      "text/plain": "        uid iso2 iso3  code3    fips   county    state country        lat  \\\n0  84001001   US  USA    840  1001.0  Autauga  Alabama      US  32.539527   \n1  84001003   US  USA    840  1003.0  Baldwin  Alabama      US  30.727750   \n2  84001005   US  USA    840  1005.0  Barbour  Alabama      US  31.868263   \n3  84001007   US  USA    840  1007.0     Bibb  Alabama      US  32.996421   \n4  84001009   US  USA    840  1009.0   Blount  Alabama      US  33.982109   \n\n       long_  ... 8/26/20  8/27/20  8/28/20  8/29/20  8/30/20  8/31/20  \\\n0 -86.644082  ...      22       22       22       22       22       22   \n1 -87.722071  ...      33       34       35       36       36       38   \n2 -85.387129  ...       7        7        7        7        7        7   \n3 -87.125115  ...       5        5        5        6        6        7   \n4 -86.567906  ...       7        7        9        9       10       11   \n\n   9/1/20  9/2/20  9/3/20  9/4/20  \n0      23      23      23      23  \n1      38      38      40      42  \n2       7       7       7       7  \n3       7       7       6       6  \n4      11      11      11      12  \n\n[5 rows x 239 columns]",
      "text/html": "<div>\n<style scoped>\n    .dataframe tbody tr th:only-of-type {\n        vertical-align: middle;\n    }\n\n    .dataframe tbody tr th {\n        vertical-align: top;\n    }\n\n    .dataframe thead th {\n        text-align: right;\n    }\n</style>\n<table border=\"1\" class=\"dataframe\">\n  <thead>\n    <tr style=\"text-align: right;\">\n      <th></th>\n      <th>uid</th>\n      <th>iso2</th>\n      <th>iso3</th>\n      <th>code3</th>\n      <th>fips</th>\n      <th>county</th>\n      <th>state</th>\n      <th>country</th>\n      <th>lat</th>\n      <th>long_</th>\n      <th>...</th>\n      <th>8/26/20</th>\n      <th>8/27/20</th>\n      <th>8/28/20</th>\n      <th>8/29/20</th>\n      <th>8/30/20</th>\n      <th>8/31/20</th>\n      <th>9/1/20</th>\n      <th>9/2/20</th>\n      <th>9/3/20</th>\n      <th>9/4/20</th>\n    </tr>\n  </thead>\n  <tbody>\n    <tr>\n      <th>0</th>\n      <td>84001001</td>\n      <td>US</td>\n      <td>USA</td>\n      <td>840</td>\n      <td>1001.0</td>\n      <td>Autauga</td>\n      <td>Alabama</td>\n      <td>US</td>\n      <td>32.539527</td>\n      <td>-86.644082</td>\n      <td>...</td>\n      <td>22</td>\n      <td>22</td>\n      <td>22</td>\n      <td>22</td>\n      <td>22</td>\n      <td>22</td>\n      <td>23</td>\n      <td>23</td>\n      <td>23</td>\n      <td>23</td>\n    </tr>\n    <tr>\n      <th>1</th>\n      <td>84001003</td>\n      <td>US</td>\n      <td>USA</td>\n      <td>840</td>\n      <td>1003.0</td>\n      <td>Baldwin</td>\n      <td>Alabama</td>\n      <td>US</td>\n      <td>30.727750</td>\n      <td>-87.722071</td>\n      <td>...</td>\n      <td>33</td>\n      <td>34</td>\n      <td>35</td>\n      <td>36</td>\n      <td>36</td>\n      <td>38</td>\n      <td>38</td>\n      <td>38</td>\n      <td>40</td>\n      <td>42</td>\n    </tr>\n    <tr>\n      <th>2</th>\n      <td>84001005</td>\n      <td>US</td>\n      <td>USA</td>\n      <td>840</td>\n      <td>1005.0</td>\n      <td>Barbour</td>\n      <td>Alabama</td>\n      <td>US</td>\n      <td>31.868263</td>\n      <td>-85.387129</td>\n      <td>...</td>\n      <td>7</td>\n      <td>7</td>\n      <td>7</td>\n      <td>7</td>\n      <td>7</td>\n      <td>7</td>\n      <td>7</td>\n      <td>7</td>\n      <td>7</td>\n      <td>7</td>\n    </tr>\n    <tr>\n      <th>3</th>\n      <td>84001007</td>\n      <td>US</td>\n      <td>USA</td>\n      <td>840</td>\n      <td>1007.0</td>\n      <td>Bibb</td>\n      <td>Alabama</td>\n      <td>US</td>\n      <td>32.996421</td>\n      <td>-87.125115</td>\n      <td>...</td>\n      <td>5</td>\n      <td>5</td>\n      <td>5</td>\n      <td>6</td>\n      <td>6</td>\n      <td>7</td>\n      <td>7</td>\n      <td>7</td>\n      <td>6</td>\n      <td>6</td>\n    </tr>\n    <tr>\n      <th>4</th>\n      <td>84001009</td>\n      <td>US</td>\n      <td>USA</td>\n      <td>840</td>\n      <td>1009.0</td>\n      <td>Blount</td>\n      <td>Alabama</td>\n      <td>US</td>\n      <td>33.982109</td>\n      <td>-86.567906</td>\n      <td>...</td>\n      <td>7</td>\n      <td>7</td>\n      <td>9</td>\n      <td>9</td>\n      <td>10</td>\n      <td>11</td>\n      <td>11</td>\n      <td>11</td>\n      <td>11</td>\n      <td>12</td>\n    </tr>\n  </tbody>\n</table>\n<p>5 rows × 239 columns</p>\n</div>"
     },
     "metadata": {},
     "execution_count": 2
    }
   ],
   "source": [
    "#pd.set_option('display.max_columns', None)\n",
    "#cases_url = 'https://raw.githubusercontent.com/CSSEGISandData/COVID-19/master/csse_covid_19_data/csse_covid_19_time_series/time_series_covid19_confirmed_US.csv'\n",
    "deaths_url = 'https://raw.githubusercontent.com/CSSEGISandData/COVID-19/master/csse_covid_19_data/csse_covid_19_time_series/time_series_covid19_deaths_US.csv' \n",
    "df = pd.read_csv(deaths_url)\n",
    "df.columns = map(str.lower, df.columns)\n",
    "df.rename(columns={'province_state': 'state', 'country_region': 'country', 'admin2': 'county'}, inplace=True)\n",
    "df.head()"
   ]
  },
  {
   "cell_type": "code",
   "execution_count": 3,
   "metadata": {},
   "outputs": [],
   "source": [
    "cali = df.loc[df['state'] == 'California']"
   ]
  },
  {
   "cell_type": "code",
   "execution_count": 4,
   "metadata": {},
   "outputs": [
    {
     "output_type": "execute_result",
     "data": {
      "text/plain": "array(['Alameda', 'Alpine', 'Amador', 'Butte', 'Calaveras', 'Colusa',\n       'Contra Costa', 'Del Norte', 'El Dorado', 'Fresno', 'Glenn',\n       'Humboldt', 'Imperial', 'Inyo', 'Kern', 'Kings', 'Lake', 'Lassen',\n       'Los Angeles', 'Madera', 'Marin', 'Mariposa', 'Mendocino',\n       'Merced', 'Modoc', 'Mono', 'Monterey', 'Napa', 'Nevada', 'Orange',\n       'Out of CA', 'Placer', 'Plumas', 'Riverside', 'Sacramento',\n       'San Benito', 'San Bernardino', 'San Diego', 'San Francisco',\n       'San Joaquin', 'San Luis Obispo', 'San Mateo', 'Santa Barbara',\n       'Santa Clara', 'Santa Cruz', 'Shasta', 'Sierra', 'Siskiyou',\n       'Solano', 'Sonoma', 'Stanislaus', 'Sutter', 'Tehama', 'Trinity',\n       'Tulare', 'Tuolumne', 'Unassigned', 'Ventura', 'Yolo', 'Yuba'],\n      dtype=object)"
     },
     "metadata": {},
     "execution_count": 4
    }
   ],
   "source": [
    "cali['county'].values"
   ]
  },
  {
   "cell_type": "code",
   "execution_count": null,
   "metadata": {},
   "outputs": [],
   "source": []
  }
 ]
}